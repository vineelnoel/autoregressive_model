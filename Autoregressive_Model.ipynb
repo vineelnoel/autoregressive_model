{
  "nbformat": 4,
  "nbformat_minor": 0,
  "metadata": {
    "colab": {
      "name": "Autoregressive Model",
      "provenance": [],
      "authorship_tag": "ABX9TyNf1Jrcbmags6ftiosCvS/c",
      "include_colab_link": true
    },
    "kernelspec": {
      "name": "python3",
      "display_name": "Python 3"
    }
  },
  "cells": [
    {
      "cell_type": "markdown",
      "metadata": {
        "id": "view-in-github",
        "colab_type": "text"
      },
      "source": [
        "<a href=\"https://colab.research.google.com/github/vineelnoel/autoregressive_model/blob/main/Autoregressive_Model.ipynb\" target=\"_parent\"><img src=\"https://colab.research.google.com/assets/colab-badge.svg\" alt=\"Open In Colab\"/></a>"
      ]
    },
    {
      "cell_type": "code",
      "metadata": {
        "id": "P3sUAKfY6Hpv"
      },
      "source": [
        "import numpy as np"
      ],
      "execution_count": 1,
      "outputs": []
    },
    {
      "cell_type": "code",
      "metadata": {
        "id": "AP_Y7RfB6vHJ"
      },
      "source": [
        "series = np.sin(0.1 * np.arange(200)) + np.random.randn(200)*0.1"
      ],
      "execution_count": 2,
      "outputs": []
    },
    {
      "cell_type": "code",
      "metadata": {
        "colab": {
          "base_uri": "https://localhost:8080/"
        },
        "id": "-_OPXNGg8waD",
        "outputId": "394e402f-67c5-46a7-d5fe-4c7226746a3c"
      },
      "source": [
        "len(series)"
      ],
      "execution_count": 3,
      "outputs": [
        {
          "output_type": "execute_result",
          "data": {
            "text/plain": [
              "200"
            ]
          },
          "metadata": {
            "tags": []
          },
          "execution_count": 3
        }
      ]
    },
    {
      "cell_type": "code",
      "metadata": {
        "colab": {
          "base_uri": "https://localhost:8080/"
        },
        "id": "N9c3W-QTusFu",
        "outputId": "887364c2-e7ea-4f17-b77a-11959f55ba03"
      },
      "source": [
        "type(series)"
      ],
      "execution_count": 4,
      "outputs": [
        {
          "output_type": "execute_result",
          "data": {
            "text/plain": [
              "numpy.ndarray"
            ]
          },
          "metadata": {
            "tags": []
          },
          "execution_count": 4
        }
      ]
    },
    {
      "cell_type": "code",
      "metadata": {
        "id": "eG9ZrGfE8yKv"
      },
      "source": [
        "import matplotlib.pyplot as plt"
      ],
      "execution_count": 5,
      "outputs": []
    },
    {
      "cell_type": "code",
      "metadata": {
        "colab": {
          "base_uri": "https://localhost:8080/",
          "height": 265
        },
        "id": "J3as3IOX85Uq",
        "outputId": "6eb8dc3c-4531-4793-8d69-1c6f7bcd189b"
      },
      "source": [
        "plt.plot(series)\r\n",
        "plt.show()"
      ],
      "execution_count": 6,
      "outputs": [
        {
          "output_type": "display_data",
          "data": {
            "image/png": "[encoded data removed]",
            "text/plain": [
              "<Figure size 432x288 with 1 Axes>"
            ]
          },
          "metadata": {
            "tags": [],
            "needs_background": "light"
          }
        }
      ]
    },
    {
      "cell_type": "code",
      "metadata": {
        "id": "TNnBiDdbjFt9"
      },
      "source": [
        "T = 10\r\n",
        "X = []\r\n",
        "Y = []\r\n",
        "\r\n",
        "for t in range(len(series) - T):\r\n",
        "  x = series[t : t+T]\r\n",
        "  X.append(x)\r\n",
        "  y = series[t+T]\r\n",
        "  Y.append(y)\r\n",
        "\r\n",
        "X = np.array(X).reshape(-1, T)\r\n",
        "Y = np.array(Y)\r\n",
        "N = len(X)"
      ],
      "execution_count": 7,
      "outputs": []
    },
    {
      "cell_type": "code",
      "metadata": {
        "colab": {
          "base_uri": "https://localhost:8080/"
        },
        "id": "DRSaXGDb1pYF",
        "outputId": "913953fd-e0a9-4cf4-bb5b-a0dbb8f58352"
      },
      "source": [
        "print(N)"
      ],
      "execution_count": 8,
      "outputs": [
        {
          "output_type": "stream",
          "text": [
            "190\n"
          ],
          "name": "stdout"
        }
      ]
    },
    {
      "cell_type": "code",
      "metadata": {
        "id": "akGzzpmv1rF7"
      },
      "source": [
        "import tensorflow as tf"
      ],
      "execution_count": 9,
      "outputs": []
    },
    {
      "cell_type": "code",
      "metadata": {
        "id": "duhpVo_92jQy"
      },
      "source": [
        "from tensorflow.keras.layers import Input, Dense\r\n",
        "from tensorflow.keras.models import Model\r\n",
        "from tensorflow.keras.optimizers import Adam"
      ],
      "execution_count": 10,
      "outputs": []
    },
    {
      "cell_type": "code",
      "metadata": {
        "id": "d04WECis41b6"
      },
      "source": [
        "i = Input(shape=(T,))\r\n",
        "x = Dense(1)(i)\r\n",
        "model = Model(i, x)\r\n",
        "model.compile(loss='mse', optimizer=Adam(learning_rate=0.1))"
      ],
      "execution_count": 11,
      "outputs": []
    },
    {
      "cell_type": "code",
      "metadata": {
        "colab": {
          "base_uri": "https://localhost:8080/"
        },
        "id": "v1Ypbgm4t-mB",
        "outputId": "2950848d-2572-49bc-8d4a-411e46c96ae5"
      },
      "source": [
        "r = model.fit(X[:-N//2], Y[:-N//2], validation_data=(X[-N//2:], Y[-N//2:]), epochs=80)"
      ],
      "execution_count": 12,
      "outputs": [
        {
          "output_type": "stream",
          "text": [
            "Epoch 1/80\n",
            "3/3 [==============================] - 1s 232ms/step - loss: 0.4035 - val_loss: 0.3072\n",
            "Epoch 2/80\n",
            "3/3 [==============================] - 0s 20ms/step - loss: 0.2725 - val_loss: 0.0669\n",
            "Epoch 3/80\n",
            "3/3 [==============================] - 0s 25ms/step - loss: 0.1128 - val_loss: 0.0906\n",
            "Epoch 4/80\n",
            "3/3 [==============================] - 0s 21ms/step - loss: 0.0847 - val_loss: 0.0504\n",
            "Epoch 5/80\n",
            "3/3 [==============================] - 0s 21ms/step - loss: 0.0693 - val_loss: 0.0623\n",
            "Epoch 6/80\n",
            "3/3 [==============================] - 0s 26ms/step - loss: 0.0608 - val_loss: 0.0446\n",
            "Epoch 7/80\n",
            "3/3 [==============================] - 0s 20ms/step - loss: 0.0596 - val_loss: 0.0469\n",
            "Epoch 8/80\n",
            "3/3 [==============================] - 0s 20ms/step - loss: 0.0457 - val_loss: 0.0319\n",
            "Epoch 9/80\n",
            "3/3 [==============================] - 0s 27ms/step - loss: 0.0434 - val_loss: 0.0260\n",
            "Epoch 10/80\n",
            "3/3 [==============================] - 0s 24ms/step - loss: 0.0313 - val_loss: 0.0264\n",
            "Epoch 11/80\n",
            "3/3 [==============================] - 0s 20ms/step - loss: 0.0347 - val_loss: 0.0225\n",
            "Epoch 12/80\n",
            "3/3 [==============================] - 0s 19ms/step - loss: 0.0251 - val_loss: 0.0258\n",
            "Epoch 13/80\n",
            "3/3 [==============================] - 0s 21ms/step - loss: 0.0306 - val_loss: 0.0212\n",
            "Epoch 14/80\n",
            "3/3 [==============================] - 0s 21ms/step - loss: 0.0293 - val_loss: 0.0230\n",
            "Epoch 15/80\n",
            "3/3 [==============================] - 0s 22ms/step - loss: 0.0280 - val_loss: 0.0203\n",
            "Epoch 16/80\n",
            "3/3 [==============================] - 0s 26ms/step - loss: 0.0287 - val_loss: 0.0204\n",
            "Epoch 17/80\n",
            "3/3 [==============================] - 0s 26ms/step - loss: 0.0271 - val_loss: 0.0191\n",
            "Epoch 18/80\n",
            "3/3 [==============================] - 0s 27ms/step - loss: 0.0239 - val_loss: 0.0182\n",
            "Epoch 19/80\n",
            "3/3 [==============================] - 0s 23ms/step - loss: 0.0236 - val_loss: 0.0181\n",
            "Epoch 20/80\n",
            "3/3 [==============================] - 0s 20ms/step - loss: 0.0260 - val_loss: 0.0176\n",
            "Epoch 21/80\n",
            "3/3 [==============================] - 0s 24ms/step - loss: 0.0232 - val_loss: 0.0170\n",
            "Epoch 22/80\n",
            "3/3 [==============================] - 0s 21ms/step - loss: 0.0228 - val_loss: 0.0168\n",
            "Epoch 23/80\n",
            "3/3 [==============================] - 0s 85ms/step - loss: 0.0215 - val_loss: 0.0166\n",
            "Epoch 24/80\n",
            "3/3 [==============================] - 0s 21ms/step - loss: 0.0226 - val_loss: 0.0164\n",
            "Epoch 25/80\n",
            "3/3 [==============================] - 0s 21ms/step - loss: 0.0229 - val_loss: 0.0171\n",
            "Epoch 26/80\n",
            "3/3 [==============================] - 0s 19ms/step - loss: 0.0233 - val_loss: 0.0160\n",
            "Epoch 27/80\n",
            "3/3 [==============================] - 0s 19ms/step - loss: 0.0226 - val_loss: 0.0155\n",
            "Epoch 28/80\n",
            "3/3 [==============================] - 0s 20ms/step - loss: 0.0206 - val_loss: 0.0151\n",
            "Epoch 29/80\n",
            "3/3 [==============================] - 0s 21ms/step - loss: 0.0218 - val_loss: 0.0155\n",
            "Epoch 30/80\n",
            "3/3 [==============================] - 0s 20ms/step - loss: 0.0200 - val_loss: 0.0147\n",
            "Epoch 31/80\n",
            "3/3 [==============================] - 0s 21ms/step - loss: 0.0206 - val_loss: 0.0145\n",
            "Epoch 32/80\n",
            "3/3 [==============================] - 0s 20ms/step - loss: 0.0184 - val_loss: 0.0145\n",
            "Epoch 33/80\n",
            "3/3 [==============================] - 0s 25ms/step - loss: 0.0195 - val_loss: 0.0142\n",
            "Epoch 34/80\n",
            "3/3 [==============================] - 0s 20ms/step - loss: 0.0181 - val_loss: 0.0140\n",
            "Epoch 35/80\n",
            "3/3 [==============================] - 0s 21ms/step - loss: 0.0177 - val_loss: 0.0140\n",
            "Epoch 36/80\n",
            "3/3 [==============================] - 0s 18ms/step - loss: 0.0203 - val_loss: 0.0138\n",
            "Epoch 37/80\n",
            "3/3 [==============================] - 0s 24ms/step - loss: 0.0171 - val_loss: 0.0146\n",
            "Epoch 38/80\n",
            "3/3 [==============================] - 0s 20ms/step - loss: 0.0202 - val_loss: 0.0134\n",
            "Epoch 39/80\n",
            "3/3 [==============================] - 0s 21ms/step - loss: 0.0184 - val_loss: 0.0141\n",
            "Epoch 40/80\n",
            "3/3 [==============================] - 0s 20ms/step - loss: 0.0193 - val_loss: 0.0135\n",
            "Epoch 41/80\n",
            "3/3 [==============================] - 0s 23ms/step - loss: 0.0199 - val_loss: 0.0131\n",
            "Epoch 42/80\n",
            "3/3 [==============================] - 0s 24ms/step - loss: 0.0170 - val_loss: 0.0144\n",
            "Epoch 43/80\n",
            "3/3 [==============================] - 0s 21ms/step - loss: 0.0194 - val_loss: 0.0137\n",
            "Epoch 44/80\n",
            "3/3 [==============================] - 0s 24ms/step - loss: 0.0197 - val_loss: 0.0134\n",
            "Epoch 45/80\n",
            "3/3 [==============================] - 0s 22ms/step - loss: 0.0170 - val_loss: 0.0129\n",
            "Epoch 46/80\n",
            "3/3 [==============================] - 0s 20ms/step - loss: 0.0190 - val_loss: 0.0127\n",
            "Epoch 47/80\n",
            "3/3 [==============================] - 0s 21ms/step - loss: 0.0192 - val_loss: 0.0126\n",
            "Epoch 48/80\n",
            "3/3 [==============================] - 0s 23ms/step - loss: 0.0165 - val_loss: 0.0131\n",
            "Epoch 49/80\n",
            "3/3 [==============================] - 0s 23ms/step - loss: 0.0174 - val_loss: 0.0136\n",
            "Epoch 50/80\n",
            "3/3 [==============================] - 0s 22ms/step - loss: 0.0202 - val_loss: 0.0124\n",
            "Epoch 51/80\n",
            "3/3 [==============================] - 0s 22ms/step - loss: 0.0182 - val_loss: 0.0131\n",
            "Epoch 52/80\n",
            "3/3 [==============================] - 0s 24ms/step - loss: 0.0174 - val_loss: 0.0150\n",
            "Epoch 53/80\n",
            "3/3 [==============================] - 0s 24ms/step - loss: 0.0174 - val_loss: 0.0140\n",
            "Epoch 54/80\n",
            "3/3 [==============================] - 0s 20ms/step - loss: 0.0181 - val_loss: 0.0137\n",
            "Epoch 55/80\n",
            "3/3 [==============================] - 0s 24ms/step - loss: 0.0185 - val_loss: 0.0122\n",
            "Epoch 56/80\n",
            "3/3 [==============================] - 0s 20ms/step - loss: 0.0166 - val_loss: 0.0123\n",
            "Epoch 57/80\n",
            "3/3 [==============================] - 0s 20ms/step - loss: 0.0184 - val_loss: 0.0125\n",
            "Epoch 58/80\n",
            "3/3 [==============================] - 0s 21ms/step - loss: 0.0176 - val_loss: 0.0124\n",
            "Epoch 59/80\n",
            "3/3 [==============================] - 0s 19ms/step - loss: 0.0188 - val_loss: 0.0122\n",
            "Epoch 60/80\n",
            "3/3 [==============================] - 0s 22ms/step - loss: 0.0170 - val_loss: 0.0123\n",
            "Epoch 61/80\n",
            "3/3 [==============================] - 0s 21ms/step - loss: 0.0183 - val_loss: 0.0127\n",
            "Epoch 62/80\n",
            "3/3 [==============================] - 0s 21ms/step - loss: 0.0161 - val_loss: 0.0128\n",
            "Epoch 63/80\n",
            "3/3 [==============================] - 0s 22ms/step - loss: 0.0179 - val_loss: 0.0147\n",
            "Epoch 64/80\n",
            "3/3 [==============================] - 0s 23ms/step - loss: 0.0194 - val_loss: 0.0125\n",
            "Epoch 65/80\n",
            "3/3 [==============================] - 0s 18ms/step - loss: 0.0184 - val_loss: 0.0121\n",
            "Epoch 66/80\n",
            "3/3 [==============================] - 0s 20ms/step - loss: 0.0178 - val_loss: 0.0122\n",
            "Epoch 67/80\n",
            "3/3 [==============================] - 0s 22ms/step - loss: 0.0179 - val_loss: 0.0126\n",
            "Epoch 68/80\n",
            "3/3 [==============================] - 0s 22ms/step - loss: 0.0172 - val_loss: 0.0132\n",
            "Epoch 69/80\n",
            "3/3 [==============================] - 0s 24ms/step - loss: 0.0168 - val_loss: 0.0123\n",
            "Epoch 70/80\n",
            "3/3 [==============================] - 0s 23ms/step - loss: 0.0178 - val_loss: 0.0122\n",
            "Epoch 71/80\n",
            "3/3 [==============================] - 0s 80ms/step - loss: 0.0200 - val_loss: 0.0120\n",
            "Epoch 72/80\n",
            "3/3 [==============================] - 0s 21ms/step - loss: 0.0193 - val_loss: 0.0125\n",
            "Epoch 73/80\n",
            "3/3 [==============================] - 0s 19ms/step - loss: 0.0161 - val_loss: 0.0121\n",
            "Epoch 74/80\n",
            "3/3 [==============================] - 0s 22ms/step - loss: 0.0168 - val_loss: 0.0136\n",
            "Epoch 75/80\n",
            "3/3 [==============================] - 0s 20ms/step - loss: 0.0170 - val_loss: 0.0141\n",
            "Epoch 76/80\n",
            "3/3 [==============================] - 0s 20ms/step - loss: 0.0174 - val_loss: 0.0124\n",
            "Epoch 77/80\n",
            "3/3 [==============================] - 0s 24ms/step - loss: 0.0172 - val_loss: 0.0122\n",
            "Epoch 78/80\n",
            "3/3 [==============================] - 0s 20ms/step - loss: 0.0182 - val_loss: 0.0121\n",
            "Epoch 79/80\n",
            "3/3 [==============================] - 0s 22ms/step - loss: 0.0170 - val_loss: 0.0126\n",
            "Epoch 80/80\n",
            "3/3 [==============================] - 0s 18ms/step - loss: 0.0198 - val_loss: 0.0132\n"
          ],
          "name": "stdout"
        }
      ]
    },
    {
      "cell_type": "code",
      "metadata": {
        "id": "w8N-UMng4LeY"
      },
      "source": [
        "validation_target = Y[-N//2:]\r\n",
        "validation_preditions = []\r\n",
        "\r\n",
        "last_x = X[-N//2]\r\n",
        "\r\n",
        "while len(validation_preditions) < len(validation_target):\r\n",
        "  p = model.predict(last_x.reshape(1,-1))[0,0]\r\n",
        "\r\n",
        "  validation_preditions.append(p)\r\n",
        "  last_x = np.roll(last_x, -1)\r\n",
        "  last_x[-1] = p"
      ],
      "execution_count": 13,
      "outputs": []
    },
    {
      "cell_type": "code",
      "metadata": {
        "id": "xu4RcO0V555o"
      },
      "source": [
        "import matplotlib.pyplot as plt"
      ],
      "execution_count": 14,
      "outputs": []
    },
    {
      "cell_type": "code",
      "metadata": {
        "colab": {
          "base_uri": "https://localhost:8080/",
          "height": 265
        },
        "id": "6tY2Ov4b57pz",
        "outputId": "a3b83e1f-9b39-4b4d-e2d0-28b56c47179c"
      },
      "source": [
        "plt.plot(validation_target, label='forecast target')\r\n",
        "plt.plot(validation_preditions, label='forecast prediction')\r\n",
        "plt.legend()\r\n",
        "plt.show()"
      ],
      "execution_count": 15,
      "outputs": [
        {
          "output_type": "display_data",
          "data": {
            "image/png": "[encoded data removed]",
            "text/plain": [
              "<Figure size 432x288 with 1 Axes>"
            ]
          },
          "metadata": {
            "tags": [],
            "needs_background": "light"
          }
        }
      ]
    }
  ]
}